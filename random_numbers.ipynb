{
 "cells": [
  {
   "cell_type": "code",
   "execution_count": 2,
   "id": "9c9fe9e7",
   "metadata": {},
   "outputs": [],
   "source": [
    "# Import the random module.\n",
    "import random"
   ]
  },
  {
   "cell_type": "code",
   "execution_count": 3,
   "id": "47f1894c",
   "metadata": {},
   "outputs": [
    {
     "data": {
      "text/plain": [
       "-41"
      ]
     },
     "execution_count": 3,
     "metadata": {},
     "output_type": "execute_result"
    }
   ],
   "source": [
    "random.randint(-90,90)"
   ]
  },
  {
   "cell_type": "code",
   "execution_count": 4,
   "id": "9fbb502a",
   "metadata": {},
   "outputs": [
    {
     "data": {
      "text/plain": [
       "0.07898640667645218"
      ]
     },
     "execution_count": 4,
     "metadata": {},
     "output_type": "execute_result"
    }
   ],
   "source": [
    "random.random()"
   ]
  },
  {
   "cell_type": "code",
   "execution_count": 6,
   "id": "91b35595",
   "metadata": {},
   "outputs": [
    {
     "data": {
      "text/plain": [
       "-36.75110536872391"
      ]
     },
     "execution_count": 6,
     "metadata": {},
     "output_type": "execute_result"
    }
   ],
   "source": [
    "random_number=random.randint(-90,89)+random.random()\n",
    "random_number"
   ]
  },
  {
   "cell_type": "code",
   "execution_count": 7,
   "id": "7651a1d3",
   "metadata": {},
   "outputs": [],
   "source": [
    "x = 1\n",
    "latitudes = []\n",
    "while x < 11:\n",
    "    random_lat = random.randint(-90, 89) + random.random()\n",
    "    latitudes.append(random_lat)\n",
    "    x += 1"
   ]
  },
  {
   "cell_type": "code",
   "execution_count": 8,
   "id": "0329bcf2",
   "metadata": {},
   "outputs": [
    {
     "data": {
      "text/plain": [
       "[-58.39965778966439,\n",
       " 66.04943575255834,\n",
       " 45.33764580574574,\n",
       " -87.96144944502494,\n",
       " 10.413647815312443,\n",
       " 64.1074028597324,\n",
       " 18.607567699910025,\n",
       " 30.222451118548957,\n",
       " 23.24927719166328,\n",
       " 30.369236386379296]"
      ]
     },
     "execution_count": 8,
     "metadata": {},
     "output_type": "execute_result"
    }
   ],
   "source": [
    "latitudes"
   ]
  },
  {
   "cell_type": "code",
   "execution_count": 9,
   "id": "563c76c0",
   "metadata": {},
   "outputs": [
    {
     "data": {
      "text/plain": [
       "76"
      ]
     },
     "execution_count": 9,
     "metadata": {},
     "output_type": "execute_result"
    }
   ],
   "source": [
    "random.randrange(-90, 90, step=1)"
   ]
  },
  {
   "cell_type": "code",
   "execution_count": 10,
   "id": "a2577367",
   "metadata": {},
   "outputs": [
    {
     "data": {
      "text/plain": [
       "6"
      ]
     },
     "execution_count": 10,
     "metadata": {},
     "output_type": "execute_result"
    }
   ],
   "source": [
    "random.randrange(-90, 90, step=3)"
   ]
  },
  {
   "cell_type": "code",
   "execution_count": 11,
   "id": "a2b827dc",
   "metadata": {},
   "outputs": [
    {
     "data": {
      "text/plain": [
       "-13.137503237701077"
      ]
     },
     "execution_count": 11,
     "metadata": {},
     "output_type": "execute_result"
    }
   ],
   "source": [
    "random_numberi=random.randrange(-90,89)+random.random()\n",
    "random_numberi"
   ]
  },
  {
   "cell_type": "code",
   "execution_count": 12,
   "id": "fc0aa337",
   "metadata": {},
   "outputs": [
    {
     "data": {
      "text/plain": [
       "64.20806552766928"
      ]
     },
     "execution_count": 12,
     "metadata": {},
     "output_type": "execute_result"
    }
   ],
   "source": [
    "random.uniform(-90, 90)"
   ]
  },
  {
   "cell_type": "code",
   "execution_count": 13,
   "id": "c2ff213f",
   "metadata": {},
   "outputs": [],
   "source": [
    "# Import the NumPy module.\n",
    "import numpy as np"
   ]
  },
  {
   "cell_type": "code",
   "execution_count": 14,
   "id": "0188a067",
   "metadata": {},
   "outputs": [
    {
     "data": {
      "text/plain": [
       "-63.3531943233735"
      ]
     },
     "execution_count": 14,
     "metadata": {},
     "output_type": "execute_result"
    }
   ],
   "source": [
    "np.random.uniform(-90.000, 90.000)"
   ]
  },
  {
   "cell_type": "code",
   "execution_count": 15,
   "id": "00e9d3c4",
   "metadata": {},
   "outputs": [
    {
     "data": {
      "text/plain": [
       "array([-54.39039734, -71.17477597,  62.71207884, -16.05061196,\n",
       "       -78.95243756,  40.78649279, -29.94708005,  30.74829235,\n",
       "       -42.43378865,  -4.82106385,  -7.82443435,  72.84615332,\n",
       "       -12.96782798,   9.99201777,  59.59487633,  11.51810132,\n",
       "       -59.94655925, -81.82093764, -22.21633903,  21.48581542,\n",
       "        77.21187355,  23.80479161, -22.94956498,  29.03594869,\n",
       "       -29.11039595,  64.1444318 , -27.76171675, -38.41421811,\n",
       "       -72.10943436,  51.56712816, -73.27915155,  27.24959177,\n",
       "       -41.51672666,  20.29383357,  81.94767044,   3.86827362,\n",
       "       -61.05246074, -59.69588121,  36.61064665, -76.31707292,\n",
       "       -29.62788569, -18.5647994 ,   2.03355631,  88.03441156,\n",
       "         5.15359984,  88.19005371, -44.25829375,  63.84191753,\n",
       "       -52.47415745, -64.53553845])"
      ]
     },
     "execution_count": 15,
     "metadata": {},
     "output_type": "execute_result"
    }
   ],
   "source": [
    "np.random.uniform(-90.000, 90.000, size=50)"
   ]
  },
  {
   "cell_type": "code",
   "execution_count": 16,
   "id": "16ec18a2",
   "metadata": {},
   "outputs": [],
   "source": [
    "# Import timeit.\n",
    "import timeit"
   ]
  },
  {
   "cell_type": "code",
   "execution_count": 17,
   "id": "f8f2346b",
   "metadata": {},
   "outputs": [
    {
     "name": "stdout",
     "output_type": "stream",
     "text": [
      "19.6 µs ± 3.9 µs per loop (mean ± std. dev. of 7 runs, 100000 loops each)\n"
     ]
    }
   ],
   "source": [
    "%timeit np.random.uniform(-90.000, 90.000, size=1500)"
   ]
  },
  {
   "cell_type": "code",
   "execution_count": 18,
   "id": "b7868b49",
   "metadata": {},
   "outputs": [
    {
     "name": "stdout",
     "output_type": "stream",
     "text": [
      "2.16 ms ± 182 µs per loop (mean ± std. dev. of 7 runs, 100 loops each)\n"
     ]
    }
   ],
   "source": [
    "def latitudes(size):\n",
    "    latitudes = []\n",
    "    x = 0\n",
    "    while x < (size):\n",
    "        random_lat = random.randint(-90, 90) + random.random()\n",
    "        latitudes.append(random_lat)\n",
    "        x += 1\n",
    "    return latitudes\n",
    "# Call the function with 1500.\n",
    "%timeit latitudes(1500)"
   ]
  },
  {
   "cell_type": "code",
   "execution_count": null,
   "id": "21c4a38f",
   "metadata": {},
   "outputs": [],
   "source": []
  }
 ],
 "metadata": {
  "kernelspec": {
   "display_name": "PythonData",
   "language": "python",
   "name": "pythondata"
  },
  "language_info": {
   "codemirror_mode": {
    "name": "ipython",
    "version": 3
   },
   "file_extension": ".py",
   "mimetype": "text/x-python",
   "name": "python",
   "nbconvert_exporter": "python",
   "pygments_lexer": "ipython3",
   "version": "3.7.11"
  }
 },
 "nbformat": 4,
 "nbformat_minor": 5
}
